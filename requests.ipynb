{
 "cells": [
  {
   "cell_type": "code",
   "execution_count": 1,
   "metadata": {},
   "outputs": [],
   "source": [
    "import requests\n",
    "import json\n",
    "from datetime import datetime"
   ]
  },
  {
   "cell_type": "code",
   "execution_count": null,
   "metadata": {},
   "outputs": [],
   "source": [
    "dt = datetime.now()\n",
    "dt.strftime(\"%Y-%d-%m %H:%M:%S\")\n",
    "dt.isoformat()"
   ]
  },
  {
   "cell_type": "code",
   "execution_count": null,
   "metadata": {},
   "outputs": [],
   "source": [
    "response = requests.get(url=\"http://127.0.0.1:8080/\")\n",
    "print(response.text)"
   ]
  },
  {
   "cell_type": "code",
   "execution_count": 35,
   "metadata": {},
   "outputs": [
    {
     "name": "stdout",
     "output_type": "stream",
     "text": [
      "[{\"month\":\"2024-12\",\"transaction_id\":\"f1bf8fed-8cb5-4403-a3a1-7b2df262182b\",\"datetime\":\"2024-12-25T05:06:04.288542+00:00\",\"type\":\"Transfer\",\"account\":\"Kaspi\",\"currency\":\"KZT\",\"amount\":\"95\",\"category\":\"Groceries\",\"point\":\"Small\",\"item\":null,\"comment\":null}]\n"
     ]
    }
   ],
   "source": [
    "response = requests.get(url=\"http://127.0.0.1:8080/transactions/?type=Transfer\")\n",
    "print(response.text)"
   ]
  },
  {
   "cell_type": "code",
   "execution_count": null,
   "metadata": {},
   "outputs": [
    {
     "name": "stdout",
     "output_type": "stream",
     "text": [
      "[{\"month\":\"2024-12\",\"transaction_id\":\"0febf93b-1e70-460c-9847-bf2efa0e59f6\",\"datetime\":\"2024-12-22T06:26:02.887480+00:00\",\"type\":\"test\",\"account\":\"Kaspi\",\"currency\":\"KZT\",\"amount\":\"95\",\"category\":\"Groceries\",\"point\":\"Small\",\"item\":null,\"comment\":null},{\"month\":\"2024-12\",\"transaction_id\":\"147358ee-d71a-407a-997c-569dd170d0c6\",\"datetime\":\"2024-12-16T20:04:56.833858+00:00\",\"type\":\"test\",\"account\":\"Kaspi\",\"currency\":\"KZT\",\"amount\":\"95\",\"category\":null,\"point\":\"small\",\"item\":null,\"comment\":null},{\"month\":\"2024-12\",\"transaction_id\":\"155c2535-de0d-478a-8f07-c6f2b6f746eb\",\"datetime\":\"2024-12-22T06:55:04.459545+00:00\",\"type\":\"test\",\"account\":\"Kaspi\",\"currency\":\"KZT\",\"amount\":\"95\",\"category\":\"Groceries\",\"point\":\"Small\",\"item\":null,\"comment\":null},{\"month\":\"2024-12\",\"transaction_id\":\"220b13dd-b3b3-41fe-a363-71a217cb4462\",\"datetime\":\"2024-12-16T20:06:51.812342+00:00\",\"type\":\"test\",\"account\":\"Kaspi\",\"currency\":\"KZT\",\"amount\":\"95\",\"category\":\"Groceries\",\"point\":\"Small\",\"item\":null,\"comment\":null},{\"month\":\"2024-12\",\"transaction_id\":\"72714072-b2d2-4ccb-bb0b-3b6c62b7ddc0\",\"datetime\":\"2024-12-22T05:23:58.635146+00:00\",\"type\":\"test\",\"account\":\"Kaspi\",\"currency\":\"KZT\",\"amount\":\"95\",\"category\":\"Groceries\",\"point\":\"Small\",\"item\":null,\"comment\":null},{\"month\":\"2024-12\",\"transaction_id\":\"7fcc7f0b-9d43-4f20-89f4-544efc5fdc84\",\"datetime\":\"2024-12-22T14:16:32.686756+00:00\",\"type\":\"test\",\"account\":\"Kaspi\",\"currency\":\"KZT\",\"amount\":\"95\",\"category\":\"Groceries\",\"point\":\"Small\",\"item\":null,\"comment\":null},{\"month\":\"2024-12\",\"transaction_id\":\"8f7c9d13-296e-45c3-8eb3-c003c859300f\",\"datetime\":\"2024-12-16T20:03:24.194218+00:00\",\"type\":\"test\",\"account\":\"test\",\"currency\":null,\"amount\":\"100\",\"category\":null,\"point\":\"small\",\"item\":null,\"comment\":null},{\"month\":\"2024-12\",\"transaction_id\":\"aa6705e2-196d-407a-aa0c-f392d114b893\",\"datetime\":\"2024-12-22T06:40:54.840431+00:00\",\"type\":\"test\",\"account\":\"Kaspi\",\"currency\":\"KZT\",\"amount\":\"95\",\"category\":\"Groceries\",\"point\":\"Small\",\"item\":null,\"comment\":null},{\"month\":\"2024-12\",\"transaction_id\":\"e953a5c2-d78d-4781-9a90-036de8879303\",\"datetime\":\"2024-12-24T17:27:02.205650+00:00\",\"type\":\"test\",\"account\":\"Kaspi\",\"currency\":\"KZT\",\"amount\":\"95\",\"category\":\"Groceries\",\"point\":\"Small\",\"item\":null,\"comment\":null}]\n"
     ]
    }
   ],
   "source": [
    "response = requests.get(url=\"http://127.0.0.1:8080/transactions/2024-12\")\n",
    "print(response.text)"
   ]
  },
  {
   "cell_type": "code",
   "execution_count": null,
   "metadata": {},
   "outputs": [],
   "source": [
    "transaction_id = \"x\"\n",
    "month = \"y\""
   ]
  },
  {
   "cell_type": "code",
   "execution_count": 41,
   "metadata": {},
   "outputs": [
    {
     "name": "stdout",
     "output_type": "stream",
     "text": [
      "Internal Server Error\n"
     ]
    }
   ],
   "source": [
    "response = requests.get(url=f\"http://127.0.0.1:8080/transactions/{month}/{transaction_id}\")\n",
    "print(response.text)"
   ]
  },
  {
   "cell_type": "code",
   "execution_count": null,
   "metadata": {},
   "outputs": [
    {
     "name": "stdout",
     "output_type": "stream",
     "text": [
      "{\"month\":\"2024-12\",\"transaction_id\":\"b3dea4cc-f0b0-4f2f-aedc-8156e85739d9\",\"datetime\":\"2024-12-26T05:24:00.072963+00:00\",\"type\":\"Transfer\",\"account\":\"Kaspi\",\"currency\":\"KZT\",\"amount\":\"95\",\"category\":\"Groceries\",\"point\":\"Small\",\"item\":null,\"comment\":null}\n"
     ]
    }
   ],
   "source": [
    "payload = json.dumps({\"type\": \"Transfer\", \"account\": \"Kaspi\", \"amount\": 95, \"point\": \"Small\"})\n",
    "response = requests.post(url=\"http://127.0.0.1:8080/transactions\", data=payload)\n",
    "item = json.loads(response.text)\n",
    "transaction_id = item[\"transaction_id\"]\n",
    "month = item[\"month\"]\n",
    "print(response.text)"
   ]
  },
  {
   "cell_type": "code",
   "execution_count": 40,
   "metadata": {},
   "outputs": [
    {
     "name": "stdout",
     "output_type": "stream",
     "text": [
      " 204\n"
     ]
    }
   ],
   "source": [
    "response = requests.delete(url=f\"http://127.0.0.1:8080/transactions/{month}/{transaction_id}\")\n",
    "print(response.text, response.status_code)"
   ]
  }
 ],
 "metadata": {
  "kernelspec": {
   "display_name": "Python 3",
   "language": "python",
   "name": "python3"
  },
  "language_info": {
   "codemirror_mode": {
    "name": "ipython",
    "version": 3
   },
   "file_extension": ".py",
   "mimetype": "text/x-python",
   "name": "python",
   "nbconvert_exporter": "python",
   "pygments_lexer": "ipython3",
   "version": "3.12.1"
  }
 },
 "nbformat": 4,
 "nbformat_minor": 2
}
