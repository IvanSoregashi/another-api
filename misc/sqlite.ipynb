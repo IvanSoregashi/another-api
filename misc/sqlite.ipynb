{
 "cells": [
  {
   "cell_type": "code",
   "execution_count": 1,
   "metadata": {},
   "outputs": [],
   "source": [
    "import sqlite3\n",
    "\n",
    "conn = sqlite3.connect(\"./data.db\")\n",
    "\n",
    "cursor = conn.cursor()\n"
   ]
  },
  {
   "cell_type": "code",
   "execution_count": 2,
   "metadata": {},
   "outputs": [
    {
     "data": {
      "text/plain": [
       "<sqlite3.Cursor at 0x19dc0743940>"
      ]
     },
     "execution_count": 2,
     "metadata": {},
     "output_type": "execute_result"
    }
   ],
   "source": [
    "cursor.execute(\"\"\"CREATE TABLE transactions(\n",
    "                        transaction_id TEXT PRIMARY KEY,\n",
    "                        month TEXT,\n",
    "                        datetime TEXT,\n",
    "                        type TEXT,\n",
    "                        account TEXT,\n",
    "                        currency TEXT,\n",
    "                        amount REAL,\n",
    "                        category TEXT,\n",
    "                        point TEXT,\n",
    "                        item TEXT,\n",
    "                        comment TEXT)\"\"\").scalar()"
   ]
  },
  {
   "cell_type": "code",
   "execution_count": 9,
   "metadata": {},
   "outputs": [
    {
     "data": {
      "text/plain": [
       "<sqlite3.Cursor at 0x159e443b3c0>"
      ]
     },
     "execution_count": 9,
     "metadata": {},
     "output_type": "execute_result"
    }
   ],
   "source": [
    "cursor.execute(\"DROP TABLE transactions\")"
   ]
  },
  {
   "cell_type": "code",
   "execution_count": 17,
   "metadata": {},
   "outputs": [
    {
     "data": {
      "text/plain": [
       "[('38635e04-7e86-4a1f-8785-57b6f8cd4314',\n",
       "  '2024-12',\n",
       "  '2024-12-28T14:54:18.649096+00:00',\n",
       "  'Transfer',\n",
       "  'Kaspi',\n",
       "  'KZT',\n",
       "  95.0,\n",
       "  'Groceries',\n",
       "  'Small',\n",
       "  None,\n",
       "  None),\n",
       " ('1e1855f9-b5b0-4bbf-8092-a54879ff28e0',\n",
       "  '2024-12',\n",
       "  '2024-12-28T14:55:51.052671+00:00',\n",
       "  'Transfer',\n",
       "  'Kaspi',\n",
       "  'KZT',\n",
       "  95.0,\n",
       "  'Groceries',\n",
       "  'Small',\n",
       "  None,\n",
       "  None),\n",
       " ('cd56c4ae-8d19-439e-bf48-26b598b15449',\n",
       "  '2024-12',\n",
       "  '2024-12-28T14:57:31.443420+00:00',\n",
       "  'Transfer',\n",
       "  'Kaspi',\n",
       "  'KZT',\n",
       "  95.0,\n",
       "  'Groceries',\n",
       "  'Small',\n",
       "  None,\n",
       "  None),\n",
       " ('627f793c-d4eb-443b-8d1a-6c4435019c85',\n",
       "  '2024-12',\n",
       "  '2024-12-28T14:58:44.139461+00:00',\n",
       "  'Transfer',\n",
       "  'Kaspi',\n",
       "  'KZT',\n",
       "  95.0,\n",
       "  'Groceries',\n",
       "  'Small',\n",
       "  None,\n",
       "  None),\n",
       " ('e250a47f-79a1-4109-ace4-18ca7f4aaae4',\n",
       "  '2024-12',\n",
       "  '2024-12-28T14:59:12.052583+00:00',\n",
       "  'Transfer',\n",
       "  'Kaspi',\n",
       "  'KZT',\n",
       "  95.0,\n",
       "  'Groceries',\n",
       "  'Small',\n",
       "  None,\n",
       "  None),\n",
       " ('67c7036a-eed3-466e-a5dc-6af9c644ff40',\n",
       "  '2024-12',\n",
       "  '2024-12-28T14:59:28.466074+00:00',\n",
       "  'Transfer',\n",
       "  'Kaspi',\n",
       "  'KZT',\n",
       "  95.0,\n",
       "  'Groceries',\n",
       "  'Small',\n",
       "  None,\n",
       "  None),\n",
       " ('3fd0b711-394a-4136-a755-964affb0b5e3',\n",
       "  '2024-12',\n",
       "  '2024-12-28T14:59:37.616120+00:00',\n",
       "  'Transfer',\n",
       "  'Kaspi',\n",
       "  'KZT',\n",
       "  95.0,\n",
       "  'Groceries',\n",
       "  'Small',\n",
       "  None,\n",
       "  None)]"
      ]
     },
     "execution_count": 17,
     "metadata": {},
     "output_type": "execute_result"
    }
   ],
   "source": [
    "cursor.execute(\"SELECT * FROM transactions\").fetchall()"
   ]
  },
  {
   "cell_type": "code",
   "execution_count": 11,
   "metadata": {},
   "outputs": [
    {
     "data": {
      "text/plain": [
       "<sqlite3.Cursor at 0x159e4493b40>"
      ]
     },
     "execution_count": 11,
     "metadata": {},
     "output_type": "execute_result"
    }
   ],
   "source": [
    "cursor.execute(\"\"\"INSERT INTO transactions VALUES (\"f1bf8fed-8cb5-4403-a3a1-7b2df262182b\",\"2024-12\",\"2024-12-25T05:06:04.288542+00:00\",\"Transfer\",\"Kaspi\",\"KZT\",95,\"Groceries\",\"Small\",NULL,NULL)\"\"\")"
   ]
  },
  {
   "cell_type": "code",
   "execution_count": 14,
   "metadata": {},
   "outputs": [],
   "source": [
    "conn.close()"
   ]
  }
 ],
 "metadata": {
  "kernelspec": {
   "display_name": "Python 3",
   "language": "python",
   "name": "python3"
  },
  "language_info": {
   "codemirror_mode": {
    "name": "ipython",
    "version": 3
   },
   "file_extension": ".py",
   "mimetype": "text/x-python",
   "name": "python",
   "nbconvert_exporter": "python",
   "pygments_lexer": "ipython3",
   "version": "3.12.1"
  }
 },
 "nbformat": 4,
 "nbformat_minor": 2
}
