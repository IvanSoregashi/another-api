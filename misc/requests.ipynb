{
 "cells": [
  {
   "cell_type": "code",
   "execution_count": 9,
   "metadata": {},
   "outputs": [],
   "source": [
    "import requests\n",
    "import json\n",
    "from datetime import datetime\n",
    "\n",
    "PORT = 8080"
   ]
  },
  {
   "cell_type": "code",
   "execution_count": null,
   "metadata": {},
   "outputs": [],
   "source": [
    "dt = datetime.now()\n",
    "dt.strftime(\"%Y-%d-%m %H:%M:%S\")\n",
    "dt.isoformat()"
   ]
  },
  {
   "cell_type": "code",
   "execution_count": 4,
   "metadata": {},
   "outputs": [
    {
     "name": "stdout",
     "output_type": "stream",
     "text": [
      "{\"detail\":\"Not Found\"}\n"
     ]
    }
   ],
   "source": [
    "response = requests.get(url=f\"http://127.0.0.1:{PORT}/\")\n",
    "print(response.text)"
   ]
  },
  {
   "cell_type": "code",
   "execution_count": 22,
   "metadata": {},
   "outputs": [
    {
     "name": "stdout",
     "output_type": "stream",
     "text": [
      "[{\"transaction_id\":\"db55b600-004f-49db-8847-8c07d5622d17\",\"month\":\"2024-12\",\"datetime\":\"2024-12-29T16:45:02.648416+00:00\",\"type\":\"Transfer\",\"account\":\"Kaspi\",\"currency\":\"KZT\",\"amount\":\"95.0\",\"category\":\"Groceries\",\"point\":\"Small\",\"item\":null,\"comment\":null},{\"transaction_id\":\"d3370960-73f2-4ac3-957b-dd3914d82816\",\"month\":\"2024-12\",\"datetime\":\"2024-12-29T16:45:42.222895+00:00\",\"type\":\"Transfer\",\"account\":\"Kaspi\",\"currency\":\"KZT\",\"amount\":\"95.0\",\"category\":\"Groceries\",\"point\":\"Small\",\"item\":null,\"comment\":null},{\"transaction_id\":\"15184e02-2fd3-4a63-8a88-2c7d1b754807\",\"month\":\"2024-12\",\"datetime\":\"2024-12-29T16:46:13.764926+00:00\",\"type\":\"Transfer\",\"account\":\"Kaspi\",\"currency\":\"KZT\",\"amount\":\"95.0\",\"category\":\"Groceries\",\"point\":\"Small\",\"item\":null,\"comment\":null},{\"transaction_id\":\"066ffb36-eb03-4b96-81d8-00b77f8c7770\",\"month\":\"2024-12\",\"datetime\":\"2024-12-29T16:46:46.392646+00:00\",\"type\":\"Transfer\",\"account\":\"Kaspi\",\"currency\":\"KZT\",\"amount\":\"95.0\",\"category\":\"Groceries\",\"point\":\"Small\",\"item\":null,\"comment\":null},{\"transaction_id\":\"bd0abc91-221f-44f4-8426-9023baf327c7\",\"month\":\"2024-12\",\"datetime\":\"2024-12-29T16:47:31.543170+00:00\",\"type\":\"Transfer\",\"account\":\"Kaspi\",\"currency\":\"KZT\",\"amount\":\"95.0\",\"category\":\"Groceries\",\"point\":\"Small\",\"item\":null,\"comment\":null},{\"transaction_id\":\"8b5d0f5a-98b0-4773-91b5-d4ae058b3044\",\"month\":\"2024-12\",\"datetime\":\"2024-12-29T16:47:45.368990+00:00\",\"type\":\"Transfer\",\"account\":\"Kaspi\",\"currency\":\"KZT\",\"amount\":\"95.0\",\"category\":\"Groceries\",\"point\":\"Small\",\"item\":null,\"comment\":null},{\"transaction_id\":\"3986f5c2-1095-4f09-a6f8-f814e40b2def\",\"month\":\"2024-12\",\"datetime\":\"2024-12-29T16:50:49.545651+00:00\",\"type\":\"Transfer\",\"account\":\"Kaspi\",\"currency\":\"KZT\",\"amount\":\"95.0\",\"category\":\"Groceries\",\"point\":\"Small\",\"item\":null,\"comment\":null},{\"transaction_id\":\"2b0a9b90-f3ac-4c44-ba8f-cab1ebd1acaa\",\"month\":\"2024-12\",\"datetime\":\"2024-12-29T16:51:03.858355+00:00\",\"type\":\"Transfer\",\"account\":\"Kaspi\",\"currency\":\"KZT\",\"amount\":\"95.0\",\"category\":\"Groceries\",\"point\":\"Small\",\"item\":null,\"comment\":null},{\"transaction_id\":\"3c66da69-e1b2-46d1-9818-b934feb90704\",\"month\":\"2024-12\",\"datetime\":\"2024-12-29T16:51:26.734050+00:00\",\"type\":\"Transfer\",\"account\":\"Kaspi\",\"currency\":\"KZT\",\"amount\":\"95.0\",\"category\":\"Groceries\",\"point\":\"Small\",\"item\":null,\"comment\":null}]\n"
     ]
    }
   ],
   "source": [
    "response = requests.get(url=f\"http://127.0.0.1:{PORT}/transactions\")\n",
    "print(response.text)"
   ]
  },
  {
   "cell_type": "code",
   "execution_count": 23,
   "metadata": {},
   "outputs": [
    {
     "name": "stdout",
     "output_type": "stream",
     "text": [
      "[{\"transaction_id\":\"db55b600-004f-49db-8847-8c07d5622d17\",\"month\":\"2024-12\",\"datetime\":\"2024-12-29T16:45:02.648416+00:00\",\"type\":\"Transfer\",\"account\":\"Kaspi\",\"currency\":\"KZT\",\"amount\":\"95.0\",\"category\":\"Groceries\",\"point\":\"Small\",\"item\":null,\"comment\":null},{\"transaction_id\":\"d3370960-73f2-4ac3-957b-dd3914d82816\",\"month\":\"2024-12\",\"datetime\":\"2024-12-29T16:45:42.222895+00:00\",\"type\":\"Transfer\",\"account\":\"Kaspi\",\"currency\":\"KZT\",\"amount\":\"95.0\",\"category\":\"Groceries\",\"point\":\"Small\",\"item\":null,\"comment\":null},{\"transaction_id\":\"15184e02-2fd3-4a63-8a88-2c7d1b754807\",\"month\":\"2024-12\",\"datetime\":\"2024-12-29T16:46:13.764926+00:00\",\"type\":\"Transfer\",\"account\":\"Kaspi\",\"currency\":\"KZT\",\"amount\":\"95.0\",\"category\":\"Groceries\",\"point\":\"Small\",\"item\":null,\"comment\":null},{\"transaction_id\":\"066ffb36-eb03-4b96-81d8-00b77f8c7770\",\"month\":\"2024-12\",\"datetime\":\"2024-12-29T16:46:46.392646+00:00\",\"type\":\"Transfer\",\"account\":\"Kaspi\",\"currency\":\"KZT\",\"amount\":\"95.0\",\"category\":\"Groceries\",\"point\":\"Small\",\"item\":null,\"comment\":null},{\"transaction_id\":\"bd0abc91-221f-44f4-8426-9023baf327c7\",\"month\":\"2024-12\",\"datetime\":\"2024-12-29T16:47:31.543170+00:00\",\"type\":\"Transfer\",\"account\":\"Kaspi\",\"currency\":\"KZT\",\"amount\":\"95.0\",\"category\":\"Groceries\",\"point\":\"Small\",\"item\":null,\"comment\":null},{\"transaction_id\":\"8b5d0f5a-98b0-4773-91b5-d4ae058b3044\",\"month\":\"2024-12\",\"datetime\":\"2024-12-29T16:47:45.368990+00:00\",\"type\":\"Transfer\",\"account\":\"Kaspi\",\"currency\":\"KZT\",\"amount\":\"95.0\",\"category\":\"Groceries\",\"point\":\"Small\",\"item\":null,\"comment\":null},{\"transaction_id\":\"3986f5c2-1095-4f09-a6f8-f814e40b2def\",\"month\":\"2024-12\",\"datetime\":\"2024-12-29T16:50:49.545651+00:00\",\"type\":\"Transfer\",\"account\":\"Kaspi\",\"currency\":\"KZT\",\"amount\":\"95.0\",\"category\":\"Groceries\",\"point\":\"Small\",\"item\":null,\"comment\":null},{\"transaction_id\":\"2b0a9b90-f3ac-4c44-ba8f-cab1ebd1acaa\",\"month\":\"2024-12\",\"datetime\":\"2024-12-29T16:51:03.858355+00:00\",\"type\":\"Transfer\",\"account\":\"Kaspi\",\"currency\":\"KZT\",\"amount\":\"95.0\",\"category\":\"Groceries\",\"point\":\"Small\",\"item\":null,\"comment\":null},{\"transaction_id\":\"3c66da69-e1b2-46d1-9818-b934feb90704\",\"month\":\"2024-12\",\"datetime\":\"2024-12-29T16:51:26.734050+00:00\",\"type\":\"Transfer\",\"account\":\"Kaspi\",\"currency\":\"KZT\",\"amount\":\"95.0\",\"category\":\"Groceries\",\"point\":\"Small\",\"item\":null,\"comment\":null}]\n"
     ]
    }
   ],
   "source": [
    "response = requests.get(url=f\"http://127.0.0.1:{PORT}/transactions/2024-12\")\n",
    "print(response.text)"
   ]
  },
  {
   "cell_type": "code",
   "execution_count": 32,
   "metadata": {},
   "outputs": [],
   "source": [
    "transaction_id = \"b6b565ff-7587-49ee-ab62-f6ec5af19b71\"\n",
    "month = \"2024-12\""
   ]
  },
  {
   "cell_type": "code",
   "execution_count": 33,
   "metadata": {},
   "outputs": [
    {
     "name": "stdout",
     "output_type": "stream",
     "text": [
      "{\"detail\":\"Item not found\"}\n"
     ]
    }
   ],
   "source": [
    "response = requests.get(url=f\"http://127.0.0.1:{PORT}/transactions/{month}/{transaction_id}\")\n",
    "print(response.text)"
   ]
  },
  {
   "cell_type": "code",
   "execution_count": 30,
   "metadata": {},
   "outputs": [
    {
     "name": "stdout",
     "output_type": "stream",
     "text": [
      "{\"transaction_id\":\"ab36221b-0608-4253-9f21-d84f08e3bdea\",\"month\":\"2024-12\",\"datetime\":\"2024-12-31T12:52:29.313938+00:00\",\"type\":\"Transfer\",\"account\":\"Kaspi\",\"currency\":\"KZT\",\"amount\":\"95.0\",\"category\":\"Groceries\",\"point\":\"Small\",\"item\":null,\"comment\":null}\n"
     ]
    }
   ],
   "source": [
    "payload = json.dumps({\"type\": \"Transfer\", \"account\": \"Kaspi\", \"amount\": 95, \"point\": \"Small\"})\n",
    "response = requests.post(url=f\"http://127.0.0.1:{PORT}/transactions\", data=payload)\n",
    "print(response.text)\n",
    "item = json.loads(response.text)\n",
    "transaction_id = item[\"transaction_id\"]\n",
    "month = item[\"month\"]"
   ]
  },
  {
   "cell_type": "code",
   "execution_count": 32,
   "metadata": {},
   "outputs": [
    {
     "name": "stdout",
     "output_type": "stream",
     "text": [
      " 204\n"
     ]
    }
   ],
   "source": [
    "response = requests.delete(url=f\"http://127.0.0.1:{PORT}/transactions/{month}/{transaction_id}\")\n",
    "print(response.text, response.status_code)"
   ]
  }
 ],
 "metadata": {
  "kernelspec": {
   "display_name": "Python 3",
   "language": "python",
   "name": "python3"
  },
  "language_info": {
   "codemirror_mode": {
    "name": "ipython",
    "version": 3
   },
   "file_extension": ".py",
   "mimetype": "text/x-python",
   "name": "python",
   "nbconvert_exporter": "python",
   "pygments_lexer": "ipython3",
   "version": "3.12.1"
  }
 },
 "nbformat": 4,
 "nbformat_minor": 2
}
