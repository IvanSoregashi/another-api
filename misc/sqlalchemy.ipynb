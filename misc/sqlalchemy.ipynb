{
 "cells": [
  {
   "cell_type": "code",
   "execution_count": null,
   "metadata": {},
   "outputs": [],
   "source": [
    "pip install sqlalchemy aiosqlite alembic"
   ]
  },
  {
   "cell_type": "code",
   "execution_count": 5,
   "metadata": {},
   "outputs": [],
   "source": [
    "from sqlalchemy import create_engine, text, select, update, Table, Column, Integer, String, MetaData, insert, ForeignKey\n",
    "from sqlalchemy.ext.asyncio import create_async_engine\n",
    "from sqlalchemy.orm import Session, sessionmaker, DeclarativeBase, Mapped, mapped_column\n",
    "from typing import Annotated\n",
    "import datetime"
   ]
  },
  {
   "cell_type": "code",
   "execution_count": 6,
   "metadata": {},
   "outputs": [],
   "source": [
    "sync_engine = create_engine(url=\"sqlite:///../data.db\", echo=True, pool_size=5, max_overflow=10)\n",
    "async_engine = create_async_engine(url=\"sqlite+aiosqlite:///../data.db\", echo=True)"
   ]
  },
  {
   "cell_type": "code",
   "execution_count": null,
   "metadata": {},
   "outputs": [],
   "source": [
    "with sync_engine.connect() as connect:\n",
    "    result = connect.execute(text(\"SELECT * FROM transactions LIMIT 1\"))\n",
    "    print(f\"{result.all()=}\")"
   ]
  },
  {
   "cell_type": "code",
   "execution_count": null,
   "metadata": {},
   "outputs": [],
   "source": [
    "async with async_engine.connect() as connect:\n",
    "    result = await connect.execute(text(\"SELECT * FROM transactions LIMIT 1\"))\n",
    "    print(f\"{result.all()=}\")"
   ]
  },
  {
   "cell_type": "code",
   "execution_count": 8,
   "metadata": {},
   "outputs": [],
   "source": [
    "sync_engine.dispose()\n",
    "async_engine.dispose()"
   ]
  },
  {
   "cell_type": "code",
   "execution_count": 21,
   "metadata": {},
   "outputs": [],
   "source": [
    "\n",
    "metadata_obj = MetaData()\n",
    "\n",
    "currency_table = Table(\n",
    "    \"Currency\",\n",
    "    metadata_obj,\n",
    "    Column(\"id\", Integer, primary_key=True),\n",
    "    Column(\"day\", Integer),\n",
    ")\n",
    "\n",
    "def create_tables():\n",
    "    metadata_obj.create_all(sync_engine)\n",
    "\n",
    "def drop_tables():\n",
    "    metadata_obj.drop_all(sync_engine)\n",
    "\n",
    "def insert_data():\n",
    "    with sync_engine.connect() as connect:\n",
    "        #statement = text(\"INSERT INTO Currency (day) VALUES (1), (2);\")\n",
    "        statement = insert(currency_table).values([{\"day\": 3}, {\"day\": 4}, {\"day\": 5}])\n",
    "        connect.execute(statement)\n",
    "        connect.commit()\n",
    "\n",
    "#drop_tables()\n",
    "#create_tables()\n",
    "#insert_data()"
   ]
  },
  {
   "cell_type": "code",
   "execution_count": 7,
   "metadata": {},
   "outputs": [],
   "source": [
    "\n",
    "with Session(sync_engine) as session:\n",
    "    pass\n",
    "\n",
    "session_factory = sessionmaker(sync_engine)\n",
    "\n",
    "with session_factory() as session:\n",
    "    pass\n",
    "\n",
    "str_200 = Annotated[str, 200]\n",
    "class Base(DeclarativeBase):\n",
    "    type_annotation_map = {\n",
    "        str_200: String(200)\n",
    "    }\n",
    "\n",
    "class CurrencyORM(Base):\n",
    "    __tablename__ = \"Currency\"\n",
    "    id: Mapped[int] = mapped_column(primary_key=True)\n",
    "    day: Mapped[int]\n",
    "\n",
    "def insert_data():\n",
    "    day99 = CurrencyORM(day=99)\n",
    "    day16 = CurrencyORM(day=16)\n",
    "    day17 = CurrencyORM(day=17)\n",
    "    with session_factory() as session:\n",
    "        session.add(day99)\n",
    "        session.add_all([day16, day17])\n",
    "        session.commit()\n",
    "\n",
    "#insert_data()"
   ]
  },
  {
   "cell_type": "code",
   "execution_count": 18,
   "metadata": {},
   "outputs": [
    {
     "name": "stdout",
     "output_type": "stream",
     "text": [
      "2024-12-29 15:52:30,306 INFO sqlalchemy.engine.Engine BEGIN (implicit)\n",
      "2024-12-29 15:52:30,307 INFO sqlalchemy.engine.Engine PRAGMA main.table_info(\"Currency\")\n",
      "2024-12-29 15:52:30,309 INFO sqlalchemy.engine.Engine [raw sql] ()\n",
      "2024-12-29 15:52:30,310 INFO sqlalchemy.engine.Engine PRAGMA main.table_info(\"transactions\")\n",
      "2024-12-29 15:52:30,310 INFO sqlalchemy.engine.Engine [raw sql] ()\n",
      "2024-12-29 15:52:30,310 INFO sqlalchemy.engine.Engine COMMIT\n"
     ]
    }
   ],
   "source": [
    "\n",
    "intPK = Annotated[int, mapped_column(primary_key=True)]\n",
    "\n",
    "class TransactionORM(Base):\n",
    "    __tablename__ = \"transactions\"\n",
    "\n",
    "    id: Mapped[intPK]\n",
    "    date: Mapped[str]\n",
    "    amount: Mapped[float]\n",
    "    #day: Mapped[int] = mapped_column(ForeignKey(CurrencyORM.id))\n",
    "    day: Mapped[int] = mapped_column(ForeignKey(\"Currency.id\", ondelete=\"CASCADE\"))\n",
    "    #day: Mapped[int | None] = mapped_column(ForeignKey(\"Currency.id\", ondelete=\"SET NULL\"))\n",
    "    datetime: Mapped[str] = mapped_column(server_default=text(\"TIMEZONE('utc', NOW())\"))\n",
    "    #datetime: Mapped[datetime.datetime] = mapped_column(default=datetime.datetime.utcnow())\n",
    "    updated_at: Mapped[str] = mapped_column(server_default=text(\"TIMEZONE('utc', NOW())\"))#, onupdate=datetime.datetime.utcnow)\n",
    "\n",
    "\n",
    "def create_tables():\n",
    "    Base.metadata.create_all(sync_engine)\n",
    "\n",
    "create_tables()"
   ]
  },
  {
   "cell_type": "code",
   "execution_count": 23,
   "metadata": {},
   "outputs": [
    {
     "name": "stdout",
     "output_type": "stream",
     "text": [
      "2024-12-29 16:52:24,487 INFO sqlalchemy.engine.Engine BEGIN (implicit)\n",
      "2024-12-29 16:52:24,487 INFO sqlalchemy.engine.Engine SELECT \"Currency\".id, \"Currency\".day \n",
      "FROM \"Currency\"\n",
      "2024-12-29 16:52:24,487 INFO sqlalchemy.engine.Engine [cached since 8.925s ago] ()\n",
      "days=[(1, 322), (2, 2), (3, 3), (4, 4), (5, 5), (6, 99), (7, 16), (8, 17)]\n",
      "2024-12-29 16:52:24,489 INFO sqlalchemy.engine.Engine ROLLBACK\n",
      "2024-12-29 16:52:24,491 INFO sqlalchemy.engine.Engine BEGIN (implicit)\n",
      "2024-12-29 16:52:24,492 INFO sqlalchemy.engine.Engine SELECT \"Currency\".id AS \"Currency_id\", \"Currency\".day AS \"Currency_day\" \n",
      "FROM \"Currency\" \n",
      "WHERE \"Currency\".id = ?\n",
      "2024-12-29 16:52:24,492 INFO sqlalchemy.engine.Engine [cached since 935.7s ago] (1,)\n",
      "2024-12-29 16:52:24,492 INFO sqlalchemy.engine.Engine UPDATE \"Currency\" SET day=? WHERE \"Currency\".id = ?\n",
      "2024-12-29 16:52:24,492 INFO sqlalchemy.engine.Engine [cached since 124.3s ago] (12, 1)\n",
      "2024-12-29 16:52:24,498 INFO sqlalchemy.engine.Engine COMMIT\n",
      "2024-12-29 16:52:24,503 INFO sqlalchemy.engine.Engine BEGIN (implicit)\n",
      "2024-12-29 16:52:24,504 INFO sqlalchemy.engine.Engine SELECT \"Currency\".id, \"Currency\".day \n",
      "FROM \"Currency\"\n",
      "2024-12-29 16:52:24,505 INFO sqlalchemy.engine.Engine [cached since 8.942s ago] ()\n",
      "days=[(1, 12), (2, 2), (3, 3), (4, 4), (5, 5), (6, 99), (7, 16), (8, 17)]\n",
      "2024-12-29 16:52:24,505 INFO sqlalchemy.engine.Engine ROLLBACK\n"
     ]
    }
   ],
   "source": [
    "\n",
    "\"\"\"class TransactionORM(Base):\n",
    "    __tablename__ = \"transactions\"\n",
    "\n",
    "    transaction_id: Mapped[str] = mapped_column(primary_key=True)\n",
    "    month: Mapped[str]\n",
    "    datetime: Mapped[str]\n",
    "    type: Mapped[str]\n",
    "    account: Mapped[str]\n",
    "    currency: Mapped[str]\n",
    "    amount: Mapped[float]\n",
    "    category: Mapped[str]\n",
    "    point: Mapped[str]\n",
    "    item: Mapped[str]\n",
    "    comment: Mapped[str]\"\"\"\n",
    "\n",
    "\"\"\"def select_currencies():\n",
    "    with sync_engine.connect() as conn:\n",
    "        query = select(currency_table)  # SELECT * FROM Currency\n",
    "        result = conn.execute(query)\n",
    "        days = result.all()\n",
    "        print(f\"{days=}\")\"\"\"\n",
    "\"\"\"\n",
    "def update_currencies(day_id: int = 1, new_day: int = -1):\n",
    "    with sync_engine.connect() as conn:\n",
    "        #statement = text(f\"UPDATE Currency SET day={new_day}\") # forbidden, sql injection\n",
    "        #statement = text(\"UPDATE Currency SET day=:new_day WHERE id=:day_id\") # better\n",
    "        #statement = statement.bindparams(new_day=new_day, day_id=day_id)\n",
    "        #statement = update(currency_table).values(day=33).where(currency_table.c.id == day_id) \n",
    "        #statement = update(currency_table).values(day=33).filter(currency_table.c.id == day_id)\n",
    "        statement = update(currency_table).values(day=new_day).filter_by(id=day_id)\n",
    "        conn.execute(statement)\n",
    "        conn.commit()\n",
    "\"\"\"\n",
    "\n",
    "def select_currencies():\n",
    "    with session_factory() as session:\n",
    "        # curr1 = session.get(CurrencyORM, 1)\n",
    "        query = select(CurrencyORM)  # SELECT * FROM Currency\n",
    "        result = session.execute(query)\n",
    "        #days = result.all()\n",
    "        days = result.first()\n",
    "        print(f\"{days=}\")\n",
    "\n",
    "def update_currencies(day_id: int = 1, new_day: int = -1):\n",
    "    # with ORM first SELECT, then UPDATE, without ORM - just UPDATE\n",
    "    with session_factory() as session:\n",
    "        day_1 = session.get(CurrencyORM, day_id)\n",
    "        day_1.day = new_day\n",
    "        session.commit()\n",
    "\n",
    "\n",
    "select_currencies()\n",
    "update_currencies(new_day=12)\n",
    "select_currencies()\n"
   ]
  },
  {
   "cell_type": "code",
   "execution_count": null,
   "metadata": {},
   "outputs": [],
   "source": []
  }
 ],
 "metadata": {
  "kernelspec": {
   "display_name": "Python 3",
   "language": "python",
   "name": "python3"
  },
  "language_info": {
   "codemirror_mode": {
    "name": "ipython",
    "version": 3
   },
   "file_extension": ".py",
   "mimetype": "text/x-python",
   "name": "python",
   "nbconvert_exporter": "python",
   "pygments_lexer": "ipython3",
   "version": "3.12.1"
  }
 },
 "nbformat": 4,
 "nbformat_minor": 2
}
