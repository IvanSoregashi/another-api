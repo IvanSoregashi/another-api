{
 "cells": [
  {
   "cell_type": "code",
   "execution_count": 10,
   "metadata": {},
   "outputs": [
    {
     "data": {
      "text/plain": [
       "False"
      ]
     },
     "execution_count": 10,
     "metadata": {},
     "output_type": "execute_result"
    }
   ],
   "source": [
    "import logging\n",
    "import os\n",
    "import boto3\n",
    "from boto3.dynamodb.conditions import Key\n",
    "from dotenv import load_dotenv\n",
    "logging.basicConfig(level=logging.INFO, format='[%(asctime)s]::[%(levelname)-8s] - %(message)s',\n",
    "                    datefmt='%Y-%m-%d %H:%M:%S')\n",
    "load_dotenv(\"..env\")"
   ]
  },
  {
   "cell_type": "code",
   "execution_count": null,
   "metadata": {},
   "outputs": [
    {
     "name": "stderr",
     "output_type": "stream",
     "text": [
      "[2024-12-13 20:20:11]::[INFO    ] - Found credentials in shared credentials file: ~/.aws/credentials\n"
     ]
    }
   ],
   "source": [
    "\n",
    "dynamo_db_resource = boto3.resource(\n",
    "    service_name='dynamodb', \n",
    "    aws_access_key_id=os.getenv('AWS_ACCESS_KEY_ID'), \n",
    "    aws_secret_access_key=os.getenv('AWS_SECRET_ACCESS_KEY'), \n",
    "    region_name=os.getenv('REGION_NAME')\n",
    "    )\n",
    "dynamo_db_resource.Table(\"Transactions\").put({\"data\": \"2024\", \"mood\": \"lousy\"})"
   ]
  }
 ],
 "metadata": {
  "kernelspec": {
   "display_name": "Python 3",
   "language": "python",
   "name": "python3"
  },
  "language_info": {
   "codemirror_mode": {
    "name": "ipython",
    "version": 3
   },
   "file_extension": ".py",
   "mimetype": "text/x-python",
   "name": "python",
   "nbconvert_exporter": "python",
   "pygments_lexer": "ipython3",
   "version": "3.12.1"
  }
 },
 "nbformat": 4,
 "nbformat_minor": 2
}
