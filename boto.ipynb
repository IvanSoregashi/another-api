{
 "cells": [
  {
   "cell_type": "code",
   "execution_count": 47,
   "metadata": {},
   "outputs": [
    {
     "data": {
      "text/plain": [
       "False"
      ]
     },
     "execution_count": 47,
     "metadata": {},
     "output_type": "execute_result"
    }
   ],
   "source": [
    "import logging\n",
    "import os\n",
    "import boto3\n",
    "from boto3.dynamodb.conditions import Key, And, Attr\n",
    "from dotenv import load_dotenv\n",
    "from functools import reduce\n",
    "from operator import and_\n",
    "logging.basicConfig(level=logging.INFO, format='[%(asctime)s]::[%(levelname)-8s] - %(message)s',\n",
    "                    datefmt='%Y-%m-%d %H:%M:%S')\n",
    "load_dotenv(\"..env\")"
   ]
  },
  {
   "cell_type": "code",
   "execution_count": 27,
   "metadata": {},
   "outputs": [],
   "source": [
    "\n",
    "dynamo_db_resource = boto3.resource(\n",
    "    service_name='dynamodb', \n",
    "    aws_access_key_id=os.getenv('AWS_ACCESS_KEY_ID'), \n",
    "    aws_secret_access_key=os.getenv('AWS_SECRET_ACCESS_KEY'), \n",
    "    region_name=os.getenv('REGION_NAME')\n",
    "    )\n",
    "dynamo_db_resource.Table(\"Transactions\")\n",
    "Transactions = dynamo_db_resource.Table(\"Transactions\")"
   ]
  },
  {
   "cell_type": "code",
   "execution_count": 4,
   "metadata": {},
   "outputs": [
    {
     "data": {
      "text/plain": [
       "{'Items': [{'datetime': '2024-12-15T12:44:14.298067+00:00',\n",
       "   'currency': None,\n",
       "   'category': None,\n",
       "   'account': 'test',\n",
       "   'amount': Decimal('100'),\n",
       "   'comment': None,\n",
       "   'type': 'test'},\n",
       "  {'datetime': '2024-12-15T16:23:27.613406',\n",
       "   'currency': None,\n",
       "   'category': None,\n",
       "   'account': 'test',\n",
       "   'amount': Decimal('100'),\n",
       "   'comment': None,\n",
       "   'type': 'test'},\n",
       "  {'datetime': '2024-12-15T16:45:58.497401',\n",
       "   'currency': None,\n",
       "   'category': None,\n",
       "   'account': 'test',\n",
       "   'amount': Decimal('100'),\n",
       "   'comment': None,\n",
       "   'type': 'test'},\n",
       "  {'mood': 'cheery', 'datetime': '2024-12-14 19:19:1ee'},\n",
       "  {'mood': 'cheery', 'datetime': '2024-12-14 19:19:19'},\n",
       "  {'datetime': '2024-12-15T16:39:52.060594',\n",
       "   'currency': None,\n",
       "   'category': None,\n",
       "   'account': 'test',\n",
       "   'amount': Decimal('100'),\n",
       "   'comment': None,\n",
       "   'type': 'test'},\n",
       "  {'datetime': '2024-12-15T16:40:41.250219',\n",
       "   'currency': None,\n",
       "   'category': None,\n",
       "   'account': 'test',\n",
       "   'amount': Decimal('100'),\n",
       "   'comment': None,\n",
       "   'type': 'test'},\n",
       "  {'datetime': '2024-12-15T16:22:11.130617',\n",
       "   'currency': None,\n",
       "   'category': None,\n",
       "   'account': 'test',\n",
       "   'amount': Decimal('100'),\n",
       "   'comment': None,\n",
       "   'type': 'test'},\n",
       "  {'datetime': '123',\n",
       "   'currency': None,\n",
       "   'category': None,\n",
       "   'account': 'test',\n",
       "   'amount': Decimal('100'),\n",
       "   'comment': None,\n",
       "   'type': 'test'},\n",
       "  {'datetime': '2024-12-15T16:23:32.562176',\n",
       "   'currency': None,\n",
       "   'category': None,\n",
       "   'account': 'test',\n",
       "   'amount': Decimal('100'),\n",
       "   'comment': None,\n",
       "   'type': 'test'}],\n",
       " 'Count': 10,\n",
       " 'ScannedCount': 10,\n",
       " 'ResponseMetadata': {'RequestId': 'I92M693781V0VKO9LACNORLJU3VV4KQNSO5AEMVJF66Q9ASUAAJG',\n",
       "  'HTTPStatusCode': 200,\n",
       "  'HTTPHeaders': {'server': 'Server',\n",
       "   'date': 'Sun, 15 Dec 2024 14:48:49 GMT',\n",
       "   'content-type': 'application/x-amz-json-1.0',\n",
       "   'content-length': '1638',\n",
       "   'connection': 'keep-alive',\n",
       "   'x-amzn-requestid': 'I92M693781V0VKO9LACNORLJU3VV4KQNSO5AEMVJF66Q9ASUAAJG',\n",
       "   'x-amz-crc32': '199446417'},\n",
       "  'RetryAttempts': 0}}"
      ]
     },
     "execution_count": 4,
     "metadata": {},
     "output_type": "execute_result"
    }
   ],
   "source": [
    "class AWSConfig:\n",
    "    def __init__(self, aws_access_key_id=None, aws_secret_access_key=None, region_name=None):\n",
    "        self.aws_access_key_id = aws_access_key_id or os.getenv(\"AWS_ACCESS_KEY_ID\")\n",
    "        self.aws_secret_access_key = aws_secret_access_key or os.getenv(\"AWS_SECRET_ACCESS_KEY\")\n",
    "        self.region_name = region_name or os.getenv(\"REGION_NAME\")\n",
    "\n",
    "    def to_dict(self):\n",
    "        return {\n",
    "            \"aws_access_key_id\": self.aws_access_key_id,\n",
    "            \"aws_secret_access_key\": self.aws_secret_access_key,\n",
    "            \"region_name\": self.region_name\n",
    "        }\n",
    "\n",
    "Transactions = boto3.resource(service_name='dynamodb', **AWSConfig().to_dict()).Table(\"Transactions\")\n",
    "\n",
    "Transactions.scan()"
   ]
  },
  {
   "cell_type": "code",
   "execution_count": 19,
   "metadata": {},
   "outputs": [
    {
     "ename": "TypeError",
     "evalue": "put_item() only accepts keyword arguments.",
     "output_type": "error",
     "traceback": [
      "\u001b[1;31m---------------------------------------------------------------------------\u001b[0m",
      "\u001b[1;31mTypeError\u001b[0m                                 Traceback (most recent call last)",
      "Cell \u001b[1;32mIn[19], line 1\u001b[0m\n\u001b[1;32m----> 1\u001b[0m result \u001b[38;5;241m=\u001b[39m \u001b[43mTransactions\u001b[49m\u001b[38;5;241;43m.\u001b[39;49m\u001b[43mput_item\u001b[49m\u001b[43m(\u001b[49m\u001b[43m{\u001b[49m\u001b[38;5;124;43m'\u001b[39;49m\u001b[38;5;124;43maccount\u001b[39;49m\u001b[38;5;124;43m'\u001b[39;49m\u001b[43m:\u001b[49m\u001b[43m \u001b[49m\u001b[38;5;124;43m'\u001b[39;49m\u001b[38;5;124;43mtest\u001b[39;49m\u001b[38;5;124;43m'\u001b[39;49m\u001b[43m,\u001b[49m\u001b[43m \u001b[49m\u001b[38;5;124;43m'\u001b[39;49m\u001b[38;5;124;43mamount\u001b[39;49m\u001b[38;5;124;43m'\u001b[39;49m\u001b[43m:\u001b[49m\u001b[43m \u001b[49m\u001b[38;5;241;43m100\u001b[39;49m\u001b[43m,\u001b[49m\u001b[43m \u001b[49m\u001b[38;5;124;43m'\u001b[39;49m\u001b[38;5;124;43mcomment\u001b[39;49m\u001b[38;5;124;43m'\u001b[39;49m\u001b[43m:\u001b[49m\u001b[43m \u001b[49m\u001b[38;5;28;43;01mNone\u001b[39;49;00m\u001b[43m,\u001b[49m\u001b[43m \u001b[49m\u001b[38;5;124;43m'\u001b[39;49m\u001b[38;5;124;43mtype\u001b[39;49m\u001b[38;5;124;43m'\u001b[39;49m\u001b[43m:\u001b[49m\u001b[43m \u001b[49m\u001b[38;5;124;43m'\u001b[39;49m\u001b[38;5;124;43mtest\u001b[39;49m\u001b[38;5;124;43m'\u001b[39;49m\u001b[43m,\u001b[49m\u001b[43m \u001b[49m\u001b[38;5;124;43m'\u001b[39;49m\u001b[38;5;124;43mpoint\u001b[39;49m\u001b[38;5;124;43m'\u001b[39;49m\u001b[43m:\u001b[49m\u001b[43m \u001b[49m\u001b[38;5;124;43m'\u001b[39;49m\u001b[38;5;124;43msmall\u001b[39;49m\u001b[38;5;124;43m'\u001b[39;49m\u001b[43m}\u001b[49m\u001b[43m)\u001b[49m\n\u001b[0;32m      2\u001b[0m result[\u001b[38;5;124m\"\u001b[39m\u001b[38;5;124mResponseMetadata\u001b[39m\u001b[38;5;124m\"\u001b[39m][\u001b[38;5;124m\"\u001b[39m\u001b[38;5;124mHTTPStatusCode\u001b[39m\u001b[38;5;124m\"\u001b[39m] \u001b[38;5;241m==\u001b[39m \u001b[38;5;241m200\u001b[39m\n",
      "File \u001b[1;32m~\\AppData\\Roaming\\Python\\Python312\\site-packages\\boto3\\resources\\factory.py:581\u001b[0m, in \u001b[0;36mResourceFactory._create_action.<locals>.do_action\u001b[1;34m(self, *args, **kwargs)\u001b[0m\n\u001b[0;32m    580\u001b[0m \u001b[38;5;28;01mdef\u001b[39;00m \u001b[38;5;21mdo_action\u001b[39m(\u001b[38;5;28mself\u001b[39m, \u001b[38;5;241m*\u001b[39margs, \u001b[38;5;241m*\u001b[39m\u001b[38;5;241m*\u001b[39mkwargs):\n\u001b[1;32m--> 581\u001b[0m     response \u001b[38;5;241m=\u001b[39m \u001b[43maction\u001b[49m\u001b[43m(\u001b[49m\u001b[38;5;28;43mself\u001b[39;49m\u001b[43m,\u001b[49m\u001b[43m \u001b[49m\u001b[38;5;241;43m*\u001b[39;49m\u001b[43margs\u001b[49m\u001b[43m,\u001b[49m\u001b[43m \u001b[49m\u001b[38;5;241;43m*\u001b[39;49m\u001b[38;5;241;43m*\u001b[39;49m\u001b[43mkwargs\u001b[49m\u001b[43m)\u001b[49m\n\u001b[0;32m    583\u001b[0m     \u001b[38;5;28;01mif\u001b[39;00m \u001b[38;5;28mhasattr\u001b[39m(\u001b[38;5;28mself\u001b[39m, \u001b[38;5;124m'\u001b[39m\u001b[38;5;124mload\u001b[39m\u001b[38;5;124m'\u001b[39m):\n\u001b[0;32m    584\u001b[0m         \u001b[38;5;66;03m# Clear cached data. It will be reloaded the next\u001b[39;00m\n\u001b[0;32m    585\u001b[0m         \u001b[38;5;66;03m# time that an attribute is accessed.\u001b[39;00m\n\u001b[0;32m    586\u001b[0m         \u001b[38;5;66;03m# TODO: Make this configurable in the future?\u001b[39;00m\n\u001b[0;32m    587\u001b[0m         \u001b[38;5;28mself\u001b[39m\u001b[38;5;241m.\u001b[39mmeta\u001b[38;5;241m.\u001b[39mdata \u001b[38;5;241m=\u001b[39m \u001b[38;5;28;01mNone\u001b[39;00m\n",
      "File \u001b[1;32m~\\AppData\\Roaming\\Python\\Python312\\site-packages\\boto3\\resources\\action.py:88\u001b[0m, in \u001b[0;36mServiceAction.__call__\u001b[1;34m(self, parent, *args, **kwargs)\u001b[0m\n\u001b[0;32m     79\u001b[0m params\u001b[38;5;241m.\u001b[39mupdate(kwargs)\n\u001b[0;32m     81\u001b[0m logger\u001b[38;5;241m.\u001b[39mdebug(\n\u001b[0;32m     82\u001b[0m     \u001b[38;5;124m'\u001b[39m\u001b[38;5;124mCalling \u001b[39m\u001b[38;5;132;01m%s\u001b[39;00m\u001b[38;5;124m:\u001b[39m\u001b[38;5;132;01m%s\u001b[39;00m\u001b[38;5;124m with \u001b[39m\u001b[38;5;132;01m%r\u001b[39;00m\u001b[38;5;124m'\u001b[39m,\n\u001b[0;32m     83\u001b[0m     parent\u001b[38;5;241m.\u001b[39mmeta\u001b[38;5;241m.\u001b[39mservice_name,\n\u001b[0;32m     84\u001b[0m     operation_name,\n\u001b[0;32m     85\u001b[0m     params,\n\u001b[0;32m     86\u001b[0m )\n\u001b[1;32m---> 88\u001b[0m response \u001b[38;5;241m=\u001b[39m \u001b[38;5;28;43mgetattr\u001b[39;49m\u001b[43m(\u001b[49m\u001b[43mparent\u001b[49m\u001b[38;5;241;43m.\u001b[39;49m\u001b[43mmeta\u001b[49m\u001b[38;5;241;43m.\u001b[39;49m\u001b[43mclient\u001b[49m\u001b[43m,\u001b[49m\u001b[43m \u001b[49m\u001b[43moperation_name\u001b[49m\u001b[43m)\u001b[49m\u001b[43m(\u001b[49m\u001b[38;5;241;43m*\u001b[39;49m\u001b[43margs\u001b[49m\u001b[43m,\u001b[49m\u001b[43m \u001b[49m\u001b[38;5;241;43m*\u001b[39;49m\u001b[38;5;241;43m*\u001b[39;49m\u001b[43mparams\u001b[49m\u001b[43m)\u001b[49m\n\u001b[0;32m     90\u001b[0m logger\u001b[38;5;241m.\u001b[39mdebug(\u001b[38;5;124m'\u001b[39m\u001b[38;5;124mResponse: \u001b[39m\u001b[38;5;132;01m%r\u001b[39;00m\u001b[38;5;124m'\u001b[39m, response)\n\u001b[0;32m     92\u001b[0m \u001b[38;5;28;01mreturn\u001b[39;00m \u001b[38;5;28mself\u001b[39m\u001b[38;5;241m.\u001b[39m_response_handler(parent, params, response)\n",
      "File \u001b[1;32m~\\AppData\\Roaming\\Python\\Python312\\site-packages\\botocore\\client.py:561\u001b[0m, in \u001b[0;36mClientCreator._create_api_method.<locals>._api_call\u001b[1;34m(self, *args, **kwargs)\u001b[0m\n\u001b[0;32m    556\u001b[0m \u001b[38;5;28;01mdef\u001b[39;00m \u001b[38;5;21m_api_call\u001b[39m(\u001b[38;5;28mself\u001b[39m, \u001b[38;5;241m*\u001b[39margs, \u001b[38;5;241m*\u001b[39m\u001b[38;5;241m*\u001b[39mkwargs):\n\u001b[0;32m    557\u001b[0m     \u001b[38;5;66;03m# We're accepting *args so that we can give a more helpful\u001b[39;00m\n\u001b[0;32m    558\u001b[0m     \u001b[38;5;66;03m# error message than TypeError: _api_call takes exactly\u001b[39;00m\n\u001b[0;32m    559\u001b[0m     \u001b[38;5;66;03m# 1 argument.\u001b[39;00m\n\u001b[0;32m    560\u001b[0m     \u001b[38;5;28;01mif\u001b[39;00m args:\n\u001b[1;32m--> 561\u001b[0m         \u001b[38;5;28;01mraise\u001b[39;00m \u001b[38;5;167;01mTypeError\u001b[39;00m(\n\u001b[0;32m    562\u001b[0m             \u001b[38;5;124mf\u001b[39m\u001b[38;5;124m\"\u001b[39m\u001b[38;5;132;01m{\u001b[39;00mpy_operation_name\u001b[38;5;132;01m}\u001b[39;00m\u001b[38;5;124m() only accepts keyword arguments.\u001b[39m\u001b[38;5;124m\"\u001b[39m\n\u001b[0;32m    563\u001b[0m         )\n\u001b[0;32m    564\u001b[0m     \u001b[38;5;66;03m# The \"self\" in this scope is referring to the BaseClient.\u001b[39;00m\n\u001b[0;32m    565\u001b[0m     \u001b[38;5;28;01mreturn\u001b[39;00m \u001b[38;5;28mself\u001b[39m\u001b[38;5;241m.\u001b[39m_make_api_call(operation_name, kwargs)\n",
      "\u001b[1;31mTypeError\u001b[0m: put_item() only accepts keyword arguments."
     ]
    }
   ],
   "source": [
    "result = Transactions.put_item({'account': 'test', 'amount': 100, 'comment': None, 'type': 'test', 'point': 'small'})\n",
    "result[\"ResponseMetadata\"][\"HTTPStatusCode\"] == 200"
   ]
  },
  {
   "cell_type": "code",
   "execution_count": 24,
   "metadata": {},
   "outputs": [
    {
     "data": {
      "text/plain": [
       "{'ResponseMetadata': {'RequestId': 'U72VGUHIKC463VKH59SL1BTFHFVV4KQNSO5AEMVJF66Q9ASUAAJG',\n",
       "  'HTTPStatusCode': 200,\n",
       "  'HTTPHeaders': {'server': 'Server',\n",
       "   'date': 'Tue, 17 Dec 2024 17:54:58 GMT',\n",
       "   'content-type': 'application/x-amz-json-1.0',\n",
       "   'content-length': '2',\n",
       "   'connection': 'keep-alive',\n",
       "   'x-amzn-requestid': 'U72VGUHIKC463VKH59SL1BTFHFVV4KQNSO5AEMVJF66Q9ASUAAJG',\n",
       "   'x-amz-crc32': '2745614147'},\n",
       "  'RetryAttempts': 0}}"
      ]
     },
     "execution_count": 24,
     "metadata": {},
     "output_type": "execute_result"
    }
   ],
   "source": [
    "Transactions.get_item(Key={\"month\": \"2024-12-14 19:19:19\", \"transaction_id\": \"2024-12-14 19:19:19\"})"
   ]
  },
  {
   "cell_type": "code",
   "execution_count": 28,
   "metadata": {},
   "outputs": [
    {
     "data": {
      "text/plain": [
       "{'Items': [{'datetime': '2024-12-16T20:04:56.833858+00:00',\n",
       "   'currency': 'KZT',\n",
       "   'month': '2024-12',\n",
       "   'category': None,\n",
       "   'account': 'Kaspi',\n",
       "   'amount': Decimal('95'),\n",
       "   'comment': None,\n",
       "   'transaction_id': '147358ee-d71a-407a-997c-569dd170d0c6',\n",
       "   'point': 'small',\n",
       "   'type': 'test'},\n",
       "  {'datetime': '2024-12-16T20:06:51.812342+00:00',\n",
       "   'currency': 'KZT',\n",
       "   'month': '2024-12',\n",
       "   'category': 'Groceries',\n",
       "   'account': 'Kaspi',\n",
       "   'amount': Decimal('95'),\n",
       "   'comment': None,\n",
       "   'transaction_id': '220b13dd-b3b3-41fe-a363-71a217cb4462',\n",
       "   'point': 'Small',\n",
       "   'type': 'test'},\n",
       "  {'datetime': '2024-12-16T20:03:24.194218+00:00',\n",
       "   'currency': None,\n",
       "   'month': '2024-12',\n",
       "   'category': None,\n",
       "   'account': 'test',\n",
       "   'amount': Decimal('100'),\n",
       "   'comment': None,\n",
       "   'transaction_id': '8f7c9d13-296e-45c3-8eb3-c003c859300f',\n",
       "   'point': 'small',\n",
       "   'type': 'test'}],\n",
       " 'Count': 3,\n",
       " 'ScannedCount': 3,\n",
       " 'ResponseMetadata': {'RequestId': '9NKQSJITVRPUL8PJ7KEF0JQCM7VV4KQNSO5AEMVJF66Q9ASUAAJG',\n",
       "  'HTTPStatusCode': 200,\n",
       "  'HTTPHeaders': {'server': 'Server',\n",
       "   'date': 'Wed, 18 Dec 2024 16:33:47 GMT',\n",
       "   'content-type': 'application/x-amz-json-1.0',\n",
       "   'content-length': '938',\n",
       "   'connection': 'keep-alive',\n",
       "   'x-amzn-requestid': '9NKQSJITVRPUL8PJ7KEF0JQCM7VV4KQNSO5AEMVJF66Q9ASUAAJG',\n",
       "   'x-amz-crc32': '1681194622'},\n",
       "  'RetryAttempts': 0}}"
      ]
     },
     "execution_count": 28,
     "metadata": {},
     "output_type": "execute_result"
    }
   ],
   "source": [
    "Transactions.query(KeyConditionExpression=Key(\"month\").eq(\"2024-12\"))"
   ]
  },
  {
   "cell_type": "code",
   "execution_count": 19,
   "metadata": {},
   "outputs": [
    {
     "data": {
      "text/plain": [
       "{'ResponseMetadata': {'RequestId': 'N3HDSRLHH9OVIM56QQSM3978MNVV4KQNSO5AEMVJF66Q9ASUAAJG',\n",
       "  'HTTPStatusCode': 200,\n",
       "  'HTTPHeaders': {'server': 'Server',\n",
       "   'date': 'Fri, 13 Dec 2024 16:44:01 GMT',\n",
       "   'content-type': 'application/x-amz-json-1.0',\n",
       "   'content-length': '2',\n",
       "   'connection': 'keep-alive',\n",
       "   'x-amzn-requestid': 'N3HDSRLHH9OVIM56QQSM3978MNVV4KQNSO5AEMVJF66Q9ASUAAJG',\n",
       "   'x-amz-crc32': '2745614147'},\n",
       "  'RetryAttempts': 0}}"
      ]
     },
     "execution_count": 19,
     "metadata": {},
     "output_type": "execute_result"
    }
   ],
   "source": [
    "Transactions.delete_item(Key={\"datetime\": \"2024-12-14 19:19:19\"})"
   ]
  },
  {
   "cell_type": "code",
   "execution_count": 57,
   "metadata": {},
   "outputs": [],
   "source": [
    "filters = {\"amount\": [95, 96]}\n",
    "#filters = {}"
   ]
  },
  {
   "cell_type": "code",
   "execution_count": 58,
   "metadata": {},
   "outputs": [
    {
     "data": {
      "text/plain": [
       "{'Items': [{'datetime': '2024-12-16T20:04:56.833858+00:00',\n",
       "   'currency': 'KZT',\n",
       "   'month': '2024-12',\n",
       "   'category': None,\n",
       "   'account': 'Kaspi',\n",
       "   'amount': Decimal('95'),\n",
       "   'comment': None,\n",
       "   'transaction_id': '147358ee-d71a-407a-997c-569dd170d0c6',\n",
       "   'point': 'small',\n",
       "   'type': 'test'},\n",
       "  {'datetime': '2024-12-16T20:06:51.812342+00:00',\n",
       "   'currency': 'KZT',\n",
       "   'month': '2024-12',\n",
       "   'category': 'Groceries',\n",
       "   'account': 'Kaspi',\n",
       "   'amount': Decimal('95'),\n",
       "   'comment': None,\n",
       "   'transaction_id': '220b13dd-b3b3-41fe-a363-71a217cb4462',\n",
       "   'point': 'Small',\n",
       "   'type': 'test'}],\n",
       " 'Count': 2,\n",
       " 'ScannedCount': 3,\n",
       " 'ResponseMetadata': {'RequestId': 'SL2PJR9C1QNJFBLKP6QIOT9LMBVV4KQNSO5AEMVJF66Q9ASUAAJG',\n",
       "  'HTTPStatusCode': 200,\n",
       "  'HTTPHeaders': {'server': 'Server',\n",
       "   'date': 'Wed, 18 Dec 2024 17:50:11 GMT',\n",
       "   'content-type': 'application/x-amz-json-1.0',\n",
       "   'content-length': '638',\n",
       "   'connection': 'keep-alive',\n",
       "   'x-amzn-requestid': 'SL2PJR9C1QNJFBLKP6QIOT9LMBVV4KQNSO5AEMVJF66Q9ASUAAJG',\n",
       "   'x-amz-crc32': '262642612'},\n",
       "  'RetryAttempts': 0}}"
      ]
     },
     "execution_count": 58,
     "metadata": {},
     "output_type": "execute_result"
    }
   ],
   "source": [
    "\n",
    "\n",
    "def build_query_params(filters):\n",
    "    query_params = {}\n",
    "    if len(filters) > 0:\n",
    "        query_params[\"FilterExpression\"] = add_expressions(filters)\n",
    "\n",
    "    return query_params\n",
    "\n",
    "def add_expressions(filters: dict):\n",
    "    if filters:\n",
    "        conditions = []\n",
    "        for key, value in filters.items():\n",
    "            if isinstance(value, str | int):\n",
    "                conditions.append(Attr(key).eq(value))\n",
    "            if isinstance(value, list):\n",
    "                conditions.append(Attr(key).is_in([v for v in value]))\n",
    "        return reduce(and_, conditions)\n",
    "\n",
    "response = Transactions.scan(**build_query_params(filters))\n",
    "response"
   ]
  },
  {
   "cell_type": "code",
   "execution_count": 55,
   "metadata": {},
   "outputs": [
    {
     "data": {
      "text/plain": [
       "{'Items': [],\n",
       " 'Count': 0,\n",
       " 'ScannedCount': 3,\n",
       " 'ResponseMetadata': {'RequestId': '0KSAFHOSG4S8LB01GPRM01CCBBVV4KQNSO5AEMVJF66Q9ASUAAJG',\n",
       "  'HTTPStatusCode': 200,\n",
       "  'HTTPHeaders': {'server': 'Server',\n",
       "   'date': 'Wed, 18 Dec 2024 17:49:21 GMT',\n",
       "   'content-type': 'application/x-amz-json-1.0',\n",
       "   'content-length': '39',\n",
       "   'connection': 'keep-alive',\n",
       "   'x-amzn-requestid': '0KSAFHOSG4S8LB01GPRM01CCBBVV4KQNSO5AEMVJF66Q9ASUAAJG',\n",
       "   'x-amz-crc32': '3763983595'},\n",
       "  'RetryAttempts': 0}}"
      ]
     },
     "execution_count": 55,
     "metadata": {},
     "output_type": "execute_result"
    }
   ],
   "source": [
    "filters = {\"FilterExpression\": reduce(And, ([Key(k).eq(v) for k, v in filters.items()]))} if filters else {}\n",
    "response = Transactions.scan(**filters)\n",
    "response"
   ]
  },
  {
   "cell_type": "code",
   "execution_count": 5,
   "metadata": {},
   "outputs": [],
   "source": [
    "table = dynamo_db_resource.create_table(\n",
    "    TableName='Transactions',\n",
    "    KeySchema=[\n",
    "        {'AttributeName': 'datetime', 'KeyType': 'HASH'}\n",
    "    ],\n",
    "    AttributeDefinitions=[\n",
    "        {'AttributeName': 'datetime', 'AttributeType': 'S'}\n",
    "    ],\n",
    "    BillingMode=\"PAY_PER_REQUEST\"\n",
    ")"
   ]
  },
  {
   "cell_type": "code",
   "execution_count": 13,
   "metadata": {},
   "outputs": [],
   "source": [
    "table = dynamo_db_resource.create_table(\n",
    "    TableName='Transactions',\n",
    "    KeySchema=[\n",
    "        {'AttributeName': 'month', 'KeyType': 'HASH'},\n",
    "        {'AttributeName': 'transaction_id', 'KeyType': 'RANGE'}\n",
    "    ],\n",
    "    AttributeDefinitions=[\n",
    "        {'AttributeName': 'month', 'AttributeType': 'S'},\n",
    "        {'AttributeName': 'transaction_id', 'AttributeType': 'S'},\n",
    "    ],\n",
    "    BillingMode=\"PAY_PER_REQUEST\"\n",
    ")"
   ]
  },
  {
   "cell_type": "code",
   "execution_count": 12,
   "metadata": {},
   "outputs": [
    {
     "ename": "AttributeError",
     "evalue": "'dynamodb.ServiceResource' object has no attribute 'delete_table'",
     "output_type": "error",
     "traceback": [
      "\u001b[1;31m---------------------------------------------------------------------------\u001b[0m",
      "\u001b[1;31mAttributeError\u001b[0m                            Traceback (most recent call last)",
      "Cell \u001b[1;32mIn[12], line 1\u001b[0m\n\u001b[1;32m----> 1\u001b[0m \u001b[43mdynamo_db_resource\u001b[49m\u001b[38;5;241;43m.\u001b[39;49m\u001b[43mdelete_table\u001b[49m(TableName\u001b[38;5;241m=\u001b[39m\u001b[38;5;124m'\u001b[39m\u001b[38;5;124mTransactions\u001b[39m\u001b[38;5;124m'\u001b[39m)\n",
      "\u001b[1;31mAttributeError\u001b[0m: 'dynamodb.ServiceResource' object has no attribute 'delete_table'"
     ]
    }
   ],
   "source": [
    "dynamo_db_resource.delete_table(TableName='Transactions')"
   ]
  },
  {
   "cell_type": "code",
   "execution_count": null,
   "metadata": {},
   "outputs": [],
   "source": [
    "import hashlib\n"
   ]
  },
  {
   "cell_type": "code",
   "execution_count": null,
   "metadata": {},
   "outputs": [],
   "source": []
  },
  {
   "cell_type": "code",
   "execution_count": null,
   "metadata": {},
   "outputs": [],
   "source": []
  },
  {
   "cell_type": "code",
   "execution_count": null,
   "metadata": {},
   "outputs": [],
   "source": []
  }
 ],
 "metadata": {
  "kernelspec": {
   "display_name": "Python 3",
   "language": "python",
   "name": "python3"
  },
  "language_info": {
   "codemirror_mode": {
    "name": "ipython",
    "version": 3
   },
   "file_extension": ".py",
   "mimetype": "text/x-python",
   "name": "python",
   "nbconvert_exporter": "python",
   "pygments_lexer": "ipython3",
   "version": "3.12.1"
  }
 },
 "nbformat": 4,
 "nbformat_minor": 2
}
