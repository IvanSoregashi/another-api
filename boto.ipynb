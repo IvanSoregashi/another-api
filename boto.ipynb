{
 "cells": [
  {
   "cell_type": "code",
   "execution_count": 2,
   "metadata": {},
   "outputs": [
    {
     "data": {
      "text/plain": [
       "False"
      ]
     },
     "execution_count": 2,
     "metadata": {},
     "output_type": "execute_result"
    }
   ],
   "source": [
    "import logging\n",
    "import os\n",
    "import boto3\n",
    "from boto3.dynamodb.conditions import Key\n",
    "from dotenv import load_dotenv\n",
    "logging.basicConfig(level=logging.INFO, format='[%(asctime)s]::[%(levelname)-8s] - %(message)s',\n",
    "                    datefmt='%Y-%m-%d %H:%M:%S')\n",
    "load_dotenv(\"..env\")"
   ]
  },
  {
   "cell_type": "code",
   "execution_count": 3,
   "metadata": {},
   "outputs": [],
   "source": [
    "\n",
    "dynamo_db_resource = boto3.resource(\n",
    "    service_name='dynamodb', \n",
    "    aws_access_key_id=os.getenv('AWS_ACCESS_KEY_ID'), \n",
    "    aws_secret_access_key=os.getenv('AWS_SECRET_ACCESS_KEY'), \n",
    "    region_name=os.getenv('REGION_NAME')\n",
    "    )\n",
    "dynamo_db_resource.Table(\"Transactions\")\n",
    "Transactions = dynamo_db_resource.Table(\"Transactions\")"
   ]
  },
  {
   "cell_type": "code",
   "execution_count": 6,
   "metadata": {},
   "outputs": [
    {
     "data": {
      "text/plain": [
       "{'ResponseMetadata': {'RequestId': '09A7G9335VPHQNHRQSLTK33HV7VV4KQNSO5AEMVJF66Q9ASUAAJG',\n",
       "  'HTTPStatusCode': 200,\n",
       "  'HTTPHeaders': {'server': 'Server',\n",
       "   'date': 'Sat, 14 Dec 2024 14:21:04 GMT',\n",
       "   'content-type': 'application/x-amz-json-1.0',\n",
       "   'content-length': '2',\n",
       "   'connection': 'keep-alive',\n",
       "   'x-amzn-requestid': '09A7G9335VPHQNHRQSLTK33HV7VV4KQNSO5AEMVJF66Q9ASUAAJG',\n",
       "   'x-amz-crc32': '2745614147'},\n",
       "  'RetryAttempts': 0}}"
      ]
     },
     "execution_count": 6,
     "metadata": {},
     "output_type": "execute_result"
    }
   ],
   "source": [
    "Transactions.put_item(Item={\"datetime\": \"2024-12-14 19:19:19\", \"mood\": \"cheery\"})"
   ]
  },
  {
   "cell_type": "code",
   "execution_count": null,
   "metadata": {},
   "outputs": [
    {
     "data": {
      "text/plain": [
       "{'Item': {'mood': 'cheery', 'date': '2024'},\n",
       " 'ResponseMetadata': {'RequestId': '68G20A4MT0G441EB2B4NGO1HSRVV4KQNSO5AEMVJF66Q9ASUAAJG',\n",
       "  'HTTPStatusCode': 200,\n",
       "  'HTTPHeaders': {'server': 'Server',\n",
       "   'date': 'Sat, 14 Dec 2024 13:45:32 GMT',\n",
       "   'content-type': 'application/x-amz-json-1.0',\n",
       "   'content-length': '52',\n",
       "   'connection': 'keep-alive',\n",
       "   'x-amzn-requestid': '68G20A4MT0G441EB2B4NGO1HSRVV4KQNSO5AEMVJF66Q9ASUAAJG',\n",
       "   'x-amz-crc32': '1209952175'},\n",
       "  'RetryAttempts': 0}}"
      ]
     },
     "execution_count": 24,
     "metadata": {},
     "output_type": "execute_result"
    }
   ],
   "source": [
    "Transactions.get_item(Key={\"datetime\": \"2024-12-14 19:19:19\"})"
   ]
  },
  {
   "cell_type": "code",
   "execution_count": null,
   "metadata": {},
   "outputs": [],
   "source": [
    "Transactions.query()"
   ]
  },
  {
   "cell_type": "code",
   "execution_count": 19,
   "metadata": {},
   "outputs": [
    {
     "data": {
      "text/plain": [
       "{'ResponseMetadata': {'RequestId': 'N3HDSRLHH9OVIM56QQSM3978MNVV4KQNSO5AEMVJF66Q9ASUAAJG',\n",
       "  'HTTPStatusCode': 200,\n",
       "  'HTTPHeaders': {'server': 'Server',\n",
       "   'date': 'Fri, 13 Dec 2024 16:44:01 GMT',\n",
       "   'content-type': 'application/x-amz-json-1.0',\n",
       "   'content-length': '2',\n",
       "   'connection': 'keep-alive',\n",
       "   'x-amzn-requestid': 'N3HDSRLHH9OVIM56QQSM3978MNVV4KQNSO5AEMVJF66Q9ASUAAJG',\n",
       "   'x-amz-crc32': '2745614147'},\n",
       "  'RetryAttempts': 0}}"
      ]
     },
     "execution_count": 19,
     "metadata": {},
     "output_type": "execute_result"
    }
   ],
   "source": [
    "Transactions.delete_item(Key={\"datetime\": \"2024-12-14 19:19:19\"})"
   ]
  },
  {
   "cell_type": "code",
   "execution_count": 5,
   "metadata": {},
   "outputs": [],
   "source": [
    "table = dynamo_db_resource.create_table(\n",
    "    TableName='Transactions',\n",
    "    KeySchema=[\n",
    "        {'AttributeName': 'datetime', 'KeyType': 'HASH'}\n",
    "    ],\n",
    "    AttributeDefinitions=[\n",
    "        {'AttributeName': 'datetime', 'AttributeType': 'S'}\n",
    "    ],\n",
    "    BillingMode=\"PAY_PER_REQUEST\"\n",
    ")"
   ]
  },
  {
   "cell_type": "code",
   "execution_count": null,
   "metadata": {},
   "outputs": [],
   "source": [
    "table = dynamo_db_resource.create_table(\n",
    "    TableName='Transactions',\n",
    "    KeySchema=[\n",
    "        {'AttributeName': 'date', 'KeyType': 'HASH'},\n",
    "        {'AttributeName': 'time', 'KeyType': 'RANGE'}\n",
    "    ],\n",
    "    AttributeDefinitions=[\n",
    "        {'AttributeName': 'date', 'AttributeType': 'S'},\n",
    "        {'AttributeName': 'time', 'AttributeType': 'S'},\n",
    "    ]\n",
    ")"
   ]
  },
  {
   "cell_type": "code",
   "execution_count": null,
   "metadata": {},
   "outputs": [],
   "source": [
    "dynamo_db_resource.delete_table(TableName='Transactions')"
   ]
  }
 ],
 "metadata": {
  "kernelspec": {
   "display_name": "Python 3",
   "language": "python",
   "name": "python3"
  },
  "language_info": {
   "codemirror_mode": {
    "name": "ipython",
    "version": 3
   },
   "file_extension": ".py",
   "mimetype": "text/x-python",
   "name": "python",
   "nbconvert_exporter": "python",
   "pygments_lexer": "ipython3",
   "version": "3.12.1"
  }
 },
 "nbformat": 4,
 "nbformat_minor": 2
}
